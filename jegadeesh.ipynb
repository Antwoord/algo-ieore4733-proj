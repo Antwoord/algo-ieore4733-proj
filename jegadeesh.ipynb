{
 "cells": [
  {
   "cell_type": "code",
   "execution_count": 196,
   "metadata": {
    "collapsed": false
   },
   "outputs": [],
   "source": [
    "import datetime as dt\n",
    "import pandas as pd\n",
    "import numpy as np\n",
    "import matplotlib.pyplot as plt\n",
    "import statsmodels.api as sm\n",
    "import pandas.io.data as web\n",
    "\n",
    "%matplotlib inline"
   ]
  },
  {
   "cell_type": "code",
   "execution_count": 201,
   "metadata": {
    "collapsed": false
   },
   "outputs": [],
   "source": [
    "# step 1: Range Selection\n",
    "st = dt.datetime(2007,12,1)\n",
    "en = dt.datetime(2016,1,1)\n",
    "sp500_tickers_lil = ['AA','AAPL','ABC','ABT','ADBE','ADI','ADM','ADP','ADSK','AEE']\n",
    "sp500_tickers_joey = ['AA','AAPL','ABC','ABT','ADBE','ADI','ADM','ADP','ADSK','AEE','AEP','AES','AET','AFL','AGN','AIG','AIV','AIZ','AKAM','ALL','AMAT','AMGN','AMP','AMT','AMZN','AN','ANTM','AON','APA','APC','APD','AVB','AVY','AXP','AZO','BA','BAC','BAX','BBBY','BBT','BBY','BCR','BDX','BEN','BFB','BHI','BIIB','BK','BLL','BMY','BRCM','BSX','BXP','C','CA','CAG','CAH','CAT','CB','CBG','CBS','CCE','CCL','CELG','CHK','CHRW','CI','CINF','CL','CLX','CMA','CMCSA','CME','CMI','CMS','CNP','CNX','COF','COH','COL','COP','COST','CPB','CSCO','CSX','CTAS','CTL','CTSH','CTXS','CVS','CVX','D','DD','DE','DFS','DGX','DHI','DHR','DIS','DOV','DOW','DRI','DTE','DUK','DVN','EA','EBAY','ECL','ED','EFX','EIX','EL','EMC','EMN','EMR','EOG','EQR','ESRX','ETFC','ETN','ETR','EXC','EXPD','EXPE','F','FCX','FDX','FE','FIS','FISV','FITB','FLR','FOXA','FTR','GAS','GD','GE','GILD','GIS','GLW','GME','GOOGL','GPC','GPS','GS','GT','GWW','HAL','HAR','HAS','HBAN','HD','HES','HIG','HOG','HON','HOT','HPQ','HRB','HST','HSY','HUM','IBM','ICE','IFF','INTC','INTU','IP','IPG','ITW','JCI','JEC','JNJ','JNPR','JPM','JWN','K','KEY','KIM','KLAC','KMB','KO','KR','KSS','L','LB','LEG','LEN','LH','LLL','LLTC','LLY','LM','LMT','LNC','LOW','LUK','LUV','M','MAR','MAS','MAT','MCD','MCHP','MCK','MCO','MDLZ','MDT','MET','MHFI','MKC','MMC','MMM','MO','MON','MRK','MRO','MS','MSFT','MSI','MTB','MU','MUR','MYL','NBL','NEE','NEM','NI','NKE','NOC','NOV','NSC','NTAP','NTRS','NUE','NVDA','NWL','OMC','ORCL','OXY','PAYX','PBI','PCAR','PCG','PCL','PCP','PDCO','PEG','PEP','PFE','PFG','PG','PGR','PH','PHM','PKI','PLD','PNC','PNW','POM','PPG','PPL','PRU','PSA','PX','QCOM','R','RAI','RF','RHI','RL','ROK','RRC','RTN','SBUX','SCHW','SE','SEE','SHW','SLB','SNA','SNDK','SO','SPG','SPLS','SRE','STI','STJ','STT','STZ','SWK','SYK','SYMC','SYY','T','TAP','TDC','TE','TGT','THC','TIF','TJX','TMK','TMO','TROW','TRV','TSN','TSO','TSS','TWX','TXN','TXT','UNH','UNM','UNP','UPS','USB','UTX','VAR','VFC','VIAB','VLO','VMC','VNO','VRSN','VZ','WAT','WBA','WFC','WFM','WHR','WM','WMB','WMT','WU','WY','WYN','XEL','XL','XLNX','XOM','XRX','YHOO','YUM','ZBH','ZION']\n",
    "\n",
    "#options\n",
    "jan = True"
   ]
  },
  {
   "cell_type": "code",
   "execution_count": 211,
   "metadata": {
    "collapsed": false,
    "scrolled": false
   },
   "outputs": [
    {
     "name": "stdout",
     "output_type": "stream",
     "text": [
      "Ticker AA Regr. Start Date 2011-01-31 00:00:00 ndata 60\n",
      "Ticker AAPL Regr. Start Date 2011-01-31 00:00:00 ndata 60\n",
      "Ticker ABC Regr. Start Date 2011-01-31 00:00:00 ndata 60\n",
      "Ticker ABT Regr. Start Date 2011-01-31 00:00:00 ndata 60\n",
      "Ticker ADBE Regr. Start Date 2011-01-31 00:00:00 ndata 60\n",
      "Ticker ADI Regr. Start Date 2011-01-31 00:00:00 ndata 60\n",
      "Ticker ADM Regr. Start Date 2011-01-31 00:00:00 ndata 60\n",
      "Ticker ADP Regr. Start Date 2011-01-31 00:00:00 ndata 60\n",
      "Ticker ADSK Regr. Start Date 2011-01-31 00:00:00 ndata 60\n",
      "Ticker AEE Regr. Start Date 2011-01-31 00:00:00 ndata 60\n",
      "('1m', 0.10245248663911424)\n",
      "('2m', -0.086612923766764952)\n",
      "('3m', 0.022454565087886409)\n",
      "('4m', -0.077100830601519246)\n",
      "('5m', -0.034724116844600139)\n",
      "('6m', -0.10236884192578435)\n",
      "('7m', -0.10531474486409413)\n",
      "('8m', -0.097140489890674753)\n",
      "('9m', 0.047928020261961982)\n",
      "('10m', -0.086512302251157316)\n",
      "('11m', 0.017010351350307599)\n",
      "('12m', -0.11741060122947862)\n",
      "('24m', -0.085273815992315982)\n",
      "('36m', -0.07728242088644352)\n",
      "('const', 0.0097774781098339727)\n",
      "('Jan', 0.0040465778702184233)\n"
     ]
    }
   ],
   "source": [
    "regr_coefs = []\n",
    "k = 0\n",
    "\n",
    "for ticker in sp500_tickers_lil:\n",
    "    try:\n",
    "        data = web.get_data_yahoo(ticker, start=st, end=en)\n",
    "        k += 1\n",
    "    except:\n",
    "        print(ticker, \"error\")\n",
    "        continue\n",
    "        \n",
    "    \n",
    "    mdata = data.resample(\"M\").pct_change().dropna()\n",
    "    Y = mdata[\"Close\"].values - np.mean(mdata[\"Close\"].values)\n",
    "    if jan:\n",
    "        X = np.zeros([len(mdata[\"Close\"].values),16]) # 1 constant + 12*mo + 1 2y + 1 3y + January\n",
    "        X[0::12,-1] = 1\n",
    "    else:\n",
    "        X = np.zeros([len(mdata[\"Close\"].values),15]) # 1 constant + 12*mo + 1 2y + 1 3y\n",
    "    \n",
    "    # constant\n",
    "    X[:,-2] = 1\n",
    "    \n",
    "    X = pd.DataFrame(X)\n",
    "    \n",
    "    # monthly lags\n",
    "    for x in range(12):\n",
    "        X[x] = pd.Series(mdata[\"Close\"]).shift(1+x).values\n",
    "    \n",
    "    # 24m lags\n",
    "    X[12] = pd.Series(mdata[\"Close\"]).shift(24).values\n",
    "    \n",
    "    # 36m lags\n",
    "    X[13] = pd.Series(mdata[\"Close\"]).shift(36).values\n",
    "    \n",
    "    # truncate\n",
    "    X = X.ix[36:]\n",
    "    Y = pd.DataFrame(Y).ix[36:]\n",
    "    \n",
    "    \n",
    "    print(\"Ticker\", ticker, \"Regr. Start Date\", mdata[\"Close\"].index[36],\"ndata\",len(Y))\n",
    "        \n",
    "    result = sm.OLS(Y,X).fit()\n",
    "    #print(result.summary())\n",
    "    regr_coefs.append(result.params)\n",
    "    \n",
    "    '''\n",
    "    fig = plt.figure(figsize=(12,8))\n",
    "    ax1 = fig.add_subplot(211)\n",
    "    fig = sm.graphics.tsa.plot_acf(Y, lags=40, ax=ax1)\n",
    "    ax2 = fig.add_subplot(212)\n",
    "    fig = sm.graphics.tsa.plot_pacf(Y, lags=40, ax=ax2)\n",
    "    '''\n",
    "    \n",
    "#print(\"done\")\n",
    "avg_coefs = np.mean(np.array(regr_coefs),axis=0)\n",
    "labels = [\"1m\",\"2m\",\"3m\",\"4m\",\"5m\",\"6m\",\"7m\",\"8m\",\"9m\",\"10m\",\"11m\",\"12m\",\"24m\",\"36m\",\"const\",\"Jan\"]\n",
    "for x in zip(labels, avg_coefs):\n",
    "    print(x)"
   ]
  },
  {
   "cell_type": "code",
   "execution_count": 209,
   "metadata": {
    "collapsed": false
   },
   "outputs": [
    {
     "data": {
      "image/png": "[encoded data removed]",
      "text/plain": [
       "<matplotlib.figure.Figure at 0x11b824160>"
      ]
     },
     "metadata": {},
     "output_type": "display_data"
    }
   ],
   "source": [
    "data = web.get_data_yahoo(\"AA\", start=st, end=en)\n",
    "mdata = data.resample(\"M\").pct_change().dropna()\n",
    "Y = mdata[\"Close\"].values - np.mean(mdata[\"Close\"].values)\n",
    "\n",
    "fig = plt.figure(figsize=(12,8))\n",
    "ax1 = fig.add_subplot(211)\n",
    "fig = sm.graphics.tsa.plot_acf(Y, lags=40, ax=ax1)\n",
    "ax2 = fig.add_subplot(212)\n",
    "fig = sm.graphics.tsa.plot_pacf(Y, lags=40, ax=ax2)\n",
    "plt.show()"
   ]
  }
 ],
 "metadata": {
  "kernelspec": {
   "display_name": "Python 3",
   "language": "python",
   "name": "python3"
  },
  "language_info": {
   "codemirror_mode": {
    "name": "ipython",
    "version": 3
   },
   "file_extension": ".py",
   "mimetype": "text/x-python",
   "name": "python",
   "nbconvert_exporter": "python",
   "pygments_lexer": "ipython3",
   "version": "3.5.1"
  }
 },
 "nbformat": 4,
 "nbformat_minor": 0
}
